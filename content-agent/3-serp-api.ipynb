{
 "cells": [
  {
   "cell_type": "code",
   "execution_count": null,
   "id": "0",
   "metadata": {},
   "outputs": [],
   "source": [
    "import os\n",
    "import io\n",
    "import contextlib\n",
    "\n",
    "from dotenv import load_dotenv\n",
    "\n",
    "load_dotenv()\n",
    "\n",
    "BRIGHTDATA_SERP_API_KEY = os.getenv(\"BRIGHTDATA_SERP_API_KEY\")\n",
    "assert BRIGHTDATA_SERP_API_KEY is not None, \"BRIGHTDATA_SERP_API_KEY is not set in the environment variables.\"\n",
    "\n"
   ]
  },
  {
   "cell_type": "code",
   "execution_count": null,
   "id": "1",
   "metadata": {},
   "outputs": [],
   "source": [
    "%pip install langchain_brightdata\n",
    "\n",
    "from langchain_brightdata import BrightDataSERP\n",
    "\n",
    "serp_tool = BrightDataSERP(\n",
    "    \n",
    "    bright_data_api_key=BRIGHTDATA_SERP_API_KEY,\n",
    "    search_engine=\"google\",\n",
    "    country=\"us\",\n",
    "    parse_results = True,    \n",
    "    num_results=15,\n",
    "    timeout=20,\n",
    "    zone = \"serp_api1\"  # Optional: specify the zone if needed\n",
    "\n",
    "    )\n",
    "\n",
    "\n"
   ]
  },
  {
   "cell_type": "code",
   "execution_count": null,
   "id": "2",
   "metadata": {},
   "outputs": [],
   "source": [
    "import inspect\n",
    "from langchain_brightdata import BrightDataSERP\n",
    "print(inspect.signature(BrightDataSERP.__init__))\n"
   ]
  },
  {
   "cell_type": "code",
   "execution_count": null,
   "id": "3",
   "metadata": {},
   "outputs": [],
   "source": [
    "buf = io.StringIO()\n",
    "with contextlib.redirect_stdout(buf):\n",
    "    result_data = serp_tool.invoke(\"Top 5 reddit communities for programming\")\n",
    "    # If the API returned an error string (like the \"zone not found\" message), handle it:\n",
    "    if isinstance(result_data, str):\n",
    "        print(\"Bright Data error:\", result_data)\n",
    "    else:\n",
    "        # Pretty-print and iterate results\n",
    "        import json\n",
    "        print(json.dumps(result_data, indent=2))\n",
    "\n",
    "        # Depending on BrightDataSERP, results are usually under \"organic\"\n",
    "        for item in result_data.get(\"organic\", []):\n",
    "            print(f\"Title:  {item.get('title')}\")\n",
    "            print(f\"Link:   {item.get('link')}\")\n",
    "            print(f\"Snippet:{item.get('snippet')}\")\n",
    "            print(\"-\" * 40)"
   ]
  },
  {
   "cell_type": "code",
   "execution_count": null,
   "id": "4",
   "metadata": {},
   "outputs": [],
   "source": [
    "import os, requests\n",
    "from urllib.parse import quote_plus\n",
    "\n",
    "api_token = os.getenv(\"BRIGHTDATA_SERP_API_KEY\")\n",
    "zone = \"serp_api1\"\n",
    "q = \"Top 5 reddit communities for programming\"\n",
    "\n",
    "encoded_q = quote_plus(q)\n",
    "\n",
    "resp = requests.post(\n",
    "    \"https://api.brightdata.com/request\",\n",
    "    headers={\n",
    "        \"Authorization\": f\"Bearer {api_token}\",\n",
    "        \"Content-Type\": \"application/json\",\n",
    "    },\n",
    "    json={\n",
    "        \"zone\": zone,\n",
    "        \"url\": f\"https://www.google.com/search?q={encoded_q}\",\n",
    "        \"country\": \"us\",\n",
    "        \"format\": \"json\",   # required\n",
    "        # \"parse\": True     # <-- remove this (not allowed)\n",
    "    },\n",
    "    timeout=30,\n",
    ")\n",
    "\n",
    "data = resp.json() if \"application/json\" in resp.headers.get(\"content-type\",\"\") else resp.text\n",
    "print(type(data), \"\\n\")\n",
    "print(data)\n",
    "\n",
    "############################\n",
    "# data.keys() \n",
    "# data.get(\"organic\")\n",
    "# ###################################\n",
    "# for result in data.get(\"organic\", []):\n",
    "#     print(f\"Title: {result.get('title')}\")\n",
    "#     print(f\"Link: {result.get('link')}\")\n",
    "#     print(f\"Snippet: {result.get('snippet')}\")\n",
    "#     print(\"-\" * 40)"
   ]
  },
  {
   "cell_type": "code",
   "execution_count": null,
   "id": "5",
   "metadata": {},
   "outputs": [],
   "source": [
    "# import json\n",
    "# data = json.dumps(result_data, indent=2)\n",
    "# print(data)\n"
   ]
  },
  {
   "cell_type": "code",
   "execution_count": null,
   "id": "6",
   "metadata": {},
   "outputs": [],
   "source": [
    "# # print(data)\n",
    "# data.keys() \n",
    "# data.get(\"organic\")"
   ]
  },
  {
   "cell_type": "code",
   "execution_count": null,
   "id": "7",
   "metadata": {},
   "outputs": [],
   "source": [
    "# `resp_data` is the raw dict from requests.post(...).json()\n",
    "resp_data = data  # whatever variable you used for resp.json()\n",
    "\n",
    "# If you want to see it, pretty-print WITHOUT overwriting:\n",
    "import json\n",
    "print(json.dumps(resp_data, indent=2))\n",
    "\n",
    "# Unwrap the payload\n",
    "payload = resp_data.get(\"body\", resp_data)  # some responses nest under \"body\"\n",
    "\n",
    "# If body is a JSON string, parse it\n",
    "if isinstance(payload, str):\n",
    "    try:\n",
    "        payload = json.loads(payload)\n",
    "    except Exception:\n",
    "        print(\"No parsed JSON results, raw body HTML below:\")\n",
    "        print(payload[:1000])  # preview\n",
    "        payload = {}\n",
    "\n",
    "# Now extract typical SERP fields\n",
    "organic = []\n",
    "if isinstance(payload, dict):\n",
    "    # try common layouts\n",
    "    if \"organic\" in payload and isinstance(payload[\"organic\"], list):\n",
    "        organic = payload[\"organic\"]\n",
    "    elif \"results\" in payload and isinstance(payload[\"results\"], dict):\n",
    "        organic = payload[\"results\"].get(\"organic\", [])\n",
    "    elif \"data\" in payload and isinstance(payload[\"data\"], dict):\n",
    "        organic = payload[\"data\"].get(\"organic\", [])\n",
    "\n",
    "# Display\n",
    "for item in organic:\n",
    "    if isinstance(item, dict):\n",
    "        print(f\"Title:   {item.get('title')}\")\n",
    "        print(f\"Link:    {item.get('link') or item.get('url')}\")\n",
    "        print(f\"Snippet: {item.get('snippet') or item.get('description')}\")\n",
    "        print(\"-\" * 40)\n",
    "\n",
    "if not organic:\n",
    "    print(\"No 'organic' list found in payload structure.\")\n"
   ]
  },
  {
   "cell_type": "code",
   "execution_count": null,
   "id": "8",
   "metadata": {},
   "outputs": [],
   "source": []
  },
  {
   "cell_type": "code",
   "execution_count": null,
   "id": "9",
   "metadata": {},
   "outputs": [],
   "source": []
  }
 ],
 "metadata": {
  "kernelspec": {
   "display_name": "base",
   "language": "python",
   "name": "python3"
  },
  "language_info": {
   "codemirror_mode": {
    "name": "ipython",
    "version": 3
   },
   "file_extension": ".py",
   "mimetype": "text/x-python",
   "name": "python",
   "nbconvert_exporter": "python",
   "pygments_lexer": "ipython3",
   "version": "3.11.7"
  }
 },
 "nbformat": 4,
 "nbformat_minor": 5
}

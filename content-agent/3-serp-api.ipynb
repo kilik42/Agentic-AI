{
 "cells": [
  {
   "cell_type": "code",
   "execution_count": null,
   "id": "a378acb8",
   "metadata": {},
   "outputs": [],
   "source": [
    "import os\n",
    "from dotenv import load_dotenv\n",
    "\n",
    "load_dotenv\n",
    "\n",
    "BRIGHTDATA_SERP_API_KEY = os.getenv(\"BRIGHTDATA_SERP_API_KEY\")\n",
    "assert BRIGHTDATA_SERP_API_KEY is not None, \"BRIGHTDATA_SERP_API_KEY is not set in the environment variables.\"\n",
    "\n"
   ]
  },
  {
   "cell_type": "code",
   "execution_count": null,
   "id": "9b4e6b38",
   "metadata": {},
   "outputs": [],
   "source": [
    "from langchain_brightdata import BrightDataSERP\n",
    "\n",
    "serp_tool = BrightDataSERP(\n",
    "    \n",
    "    bright_data_api_key=BRIGHTDATA_SERP_API_KEY,\n",
    "    search_engine=\"google\",\n",
    "    country=\"us\",\n",
    "    parse_results = True,    \n",
    "    num_results=15,\n",
    "    timeout=20,\n",
    "\n",
    "\n",
    "    \n",
    "    \n",
    "    )\n",
    "\n",
    "\n"
   ]
  },
  {
   "cell_type": "code",
   "execution_count": null,
   "id": "147084af",
   "metadata": {},
   "outputs": [],
   "source": [
    "result_data = serp_tool.invoke(\"What is the capital of France?\")\n"
   ]
  },
  {
   "cell_type": "code",
   "execution_count": null,
   "id": "1e56fbe6",
   "metadata": {},
   "outputs": [],
   "source": [
    "import json\n",
    "data = json.dumps(result_data, indent=2)\n"
   ]
  },
  {
   "cell_type": "code",
   "execution_count": null,
   "id": "4b8ab114",
   "metadata": {},
   "outputs": [],
   "source": [
    "data.keys() "
   ]
  }
 ],
 "metadata": {
  "kernelspec": {
   "display_name": "Python 3",
   "language": "python",
   "name": "python3"
  },
  "language_info": {
   "name": "python",
   "version": "3.12.6"
  }
 },
 "nbformat": 4,
 "nbformat_minor": 5
}

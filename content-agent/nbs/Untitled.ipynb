{
 "cells": [
  {
   "cell_type": "code",
   "execution_count": null,
   "id": "30154cfb-4b34-4757-85e8-0e8e8dafcd31",
   "metadata": {},
   "outputs": [],
   "source": [
    "python -v"
   ]
  },
  {
   "cell_type": "code",
   "execution_count": null,
   "id": "cc5873de-55af-4028-aee7-848d2b02eef5",
   "metadata": {},
   "outputs": [],
   "source": []
  },
  {
   "cell_type": "code",
   "execution_count": null,
   "id": "3944701e-8dbf-4f71-86af-c98205a4e5a4",
   "metadata": {},
   "outputs": [],
   "source": []
  }
 ],
 "metadata": {
  "kernelspec": {
   "display_name": "",
   "name": ""
  },
  "language_info": {
   "name": ""
  }
 },
 "nbformat": 4,
 "nbformat_minor": 5
}
